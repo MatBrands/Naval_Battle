{
 "cells": [
  {
   "cell_type": "code",
   "execution_count": 1,
   "metadata": {},
   "outputs": [
    {
     "name": "stdout",
     "output_type": "stream",
     "text": [
      "    1   2   3   4   5   6   7   8   9   10   \n",
      "A   ~   ~   ~   ~   ~   ~   ~   ~   ~   ~   \n",
      "B   ~   ~   ~   ~   ~   ~   ~   ~   ~   ~   \n",
      "C   ~   ~   ~   ~   ~   ~   ~   ~   ~   ~   \n",
      "D   ~   ~   ~   ~   ~   ~   ~   ~   ~   ~   \n",
      "E   ~   ~   ~   ~   ~   ~   ~   ~   ~   ~   \n",
      "F   ~   ~   ~   ~   ~   ~   ~   ~   ~   ~   \n",
      "G   ~   ~   ~   ~   ~   ~   ~   ~   ~   ~   \n",
      "H   ~   ~   ~   ~   ~   ~   ~   ~   ~   ~   \n",
      "I   ~   ~   ~   ~   ~   ~   ~   ~   ~   ~   \n",
      "J   ~   ~   ~   ~   ~   ~   ~   ~   ~   ~   "
     ]
    }
   ],
   "source": [
    "matriz = [['~']*10 for _ in range(10)]\n",
    "letra = ['A', 'B', 'C', 'D', 'E', 'F', 'G', 'H', 'I', 'J']\n",
    "\n",
    "for i in range (11):\n",
    "    if i:\n",
    "        print(i, end='   ')\n",
    "    else:\n",
    "        print(' ', end='   ')\n",
    "    \n",
    "for i, linha in enumerate(matriz):\n",
    "    print(f'\\n{letra[i]}', end='   ')\n",
    "    for elemento in linha:\n",
    "        print(elemento, end='   ')\n",
    "    "
   ]
  }
 ],
 "metadata": {
  "kernelspec": {
   "display_name": "Python 3",
   "language": "python",
   "name": "python3"
  },
  "language_info": {
   "codemirror_mode": {
    "name": "ipython",
    "version": 3
   },
   "file_extension": ".py",
   "mimetype": "text/x-python",
   "name": "python",
   "nbconvert_exporter": "python",
   "pygments_lexer": "ipython3",
   "version": "3.11.1 (main, Jan 31 2023, 01:04:24) [GCC 12.2.0]"
  },
  "orig_nbformat": 4,
  "vscode": {
   "interpreter": {
    "hash": "ead1b95f633dc9c51826328e1846203f51a198c6fb5f2884a80417ba131d4e82"
   }
  }
 },
 "nbformat": 4,
 "nbformat_minor": 2
}
